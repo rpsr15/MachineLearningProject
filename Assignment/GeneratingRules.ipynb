{
 "cells": [
  {
   "cell_type": "code",
   "execution_count": 10,
   "metadata": {},
   "outputs": [
    {
     "name": "stdout",
     "output_type": "stream",
     "text": [
      "test 2 sfds\n"
     ]
    }
   ],
   "source": [
    "rulebase = {\"00\":(1,1.0), \"11\":(1,0.5)}\n",
    "t = (\"11\",2, 0.7)\n",
    "if t[2] > rulebase[t[0]][1]:\n",
    "    rulebase[\"11\"] = (t[1], t[2])"
   ]
  },
  {
   "cell_type": "code",
   "execution_count": 8,
   "metadata": {},
   "outputs": [
    {
     "name": "stdout",
     "output_type": "stream",
     "text": [
      "{'00': (1, 1.0), '11': (2, 0.7)}\n"
     ]
    }
   ],
   "source": [
    "print(rulebase)"
   ]
  },
  {
   "cell_type": "code",
   "execution_count": null,
   "metadata": {},
   "outputs": [],
   "source": [
    "rule1 = ctrl.Rule(quality['poor'] | service['poor'], tip['low'])\n",
    "rule2 = ctrl.Rule(service['average'], tip['medium'])\n",
    "rule3 = ctrl.Rule(service['good'] | quality['good'], tip['high'])"
   ]
  }
 ],
 "metadata": {
  "kernelspec": {
   "display_name": "Python 3",
   "language": "python",
   "name": "python3"
  },
  "language_info": {
   "codemirror_mode": {
    "name": "ipython",
    "version": 3
   },
   "file_extension": ".py",
   "mimetype": "text/x-python",
   "name": "python",
   "nbconvert_exporter": "python",
   "pygments_lexer": "ipython3",
   "version": "3.6.4"
  }
 },
 "nbformat": 4,
 "nbformat_minor": 2
}
