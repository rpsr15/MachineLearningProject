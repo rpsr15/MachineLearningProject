{
 "cells": [
  {
   "cell_type": "code",
   "execution_count": 45,
   "metadata": {},
   "outputs": [
    {
     "name": "stdout",
     "output_type": "stream",
     "text": [
      "(8,)\n",
      "[array([1, 2, 3, 4, 6, 7, 8, 9]), array([ 2,  4,  6,  8, 10, 12, 13, 15]), array([-1, -2, -2, -3, -4, -6, -7, -8]), array([-1, -2, -2, -3, -4, -6, -7, -8])]\n"
     ]
    },
    {
     "data": {
      "text/plain": [
       "array([[ 1.        ,  0.99535001, -0.9805214 , -0.9805214 ],\n",
       "       [ 0.99535001,  1.        , -0.97172394, -0.97172394],\n",
       "       [-0.9805214 , -0.97172394,  1.        ,  1.        ],\n",
       "       [-0.9805214 , -0.97172394,  1.        ,  1.        ]])"
      ]
     },
     "execution_count": 45,
     "metadata": {},
     "output_type": "execute_result"
    }
   ],
   "source": [
    "import numpy as np\n",
    "import matplotlib.pyplot as plt\n",
    "%matplotlib inline\n",
    "a = np.array([1,2,3,4,6,7,8,9])\n",
    "b = np.array([2,4,6,8,10,12,13,15])\n",
    "c = np.array([-1,-2,-2,-3,-4,-6,-7,-8])\n",
    "d = np.array([-1,-2,-2,-3,-4,-6,-7,-8])\n",
    "print(a.shape)\n",
    "print([a,b,c,d])\n",
    "np.corrcoef([a,b,c,d])\n"
   ]
  },
  {
   "cell_type": "code",
   "execution_count": null,
   "metadata": {},
   "outputs": [],
   "source": []
  },
  {
   "cell_type": "code",
   "execution_count": null,
   "metadata": {},
   "outputs": [],
   "source": []
  },
  {
   "cell_type": "code",
   "execution_count": null,
   "metadata": {},
   "outputs": [],
   "source": []
  }
 ],
 "metadata": {
  "kernelspec": {
   "display_name": "Python 3",
   "language": "python",
   "name": "python3"
  },
  "language_info": {
   "codemirror_mode": {
    "name": "ipython",
    "version": 3
   },
   "file_extension": ".py",
   "mimetype": "text/x-python",
   "name": "python",
   "nbconvert_exporter": "python",
   "pygments_lexer": "ipython3",
   "version": "3.6.4"
  }
 },
 "nbformat": 4,
 "nbformat_minor": 2
}
